{
  "nbformat": 4,
  "nbformat_minor": 0,
  "metadata": {
    "colab": {
      "provenance": []
    },
    "kernelspec": {
      "name": "python3",
      "display_name": "Python 3"
    },
    "language_info": {
      "name": "python"
    }
  },
  "cells": [
    {
      "cell_type": "markdown",
      "source": [
        "**1. Given the following dataset: X={1.3,1.5,2.6,2.6,3.2,3.9,4.2,3.7,3.10,3.0,11,6.7,1.9}. Compute the density of the data using a histogram with 5 bins.**"
      ],
      "metadata": {
        "id": "QXNlB2rSdj5K"
      }
    },
    {
      "cell_type": "code",
      "execution_count": null,
      "metadata": {
        "id": "ugNQuG2HUFaR"
      },
      "outputs": [],
      "source": [
        "import numpy as np\n",
        "import matplotlib.pyplot as plt"
      ]
    },
    {
      "cell_type": "code",
      "source": [
        "X = [1.3, 1.5, 2.6, 2.6, 3.2, 3.9, 4.2, 3.7, 3.10, 3.0, 11, 6.7, 1.9]"
      ],
      "metadata": {
        "id": "SzSyphEYWTP-"
      },
      "execution_count": null,
      "outputs": []
    },
    {
      "cell_type": "code",
      "source": [
        "plt.hist(X, bins=5, edgecolor='black')\n",
        "plt.xlabel('X')\n",
        "plt.ylabel('Density')\n",
        "plt.title('Histogram')\n",
        "plt.show()"
      ],
      "metadata": {
        "colab": {
          "base_uri": "https://localhost:8080/",
          "height": 472
        },
        "id": "Q_YMg1ZjW6vw",
        "outputId": "a1667d17-fa2c-4c7e-b059-ada3800e2895"
      },
      "execution_count": null,
      "outputs": [
        {
          "output_type": "display_data",
          "data": {
            "text/plain": [
              "<Figure size 640x480 with 1 Axes>"
            ],
            "image/png": "[encoded data removed]"
          },
          "metadata": {}
        }
      ]
    },
    {
      "cell_type": "markdown",
      "source": [
        "**2. Dependent variables = {1.3,1.5,2.6,2.6,3.2,3.9,4.2,3.7,3.10,3.0,11,6.7,1.9}\n",
        "Find Mean, Median, Mode , Variance , Standard deviation , Range , Interquartile Range (IQR),  Skewness ,Kurtosis of x and y .**"
      ],
      "metadata": {
        "id": "RnbqjoaRdVYu"
      }
    },
    {
      "cell_type": "code",
      "source": [
        "from scipy import stats"
      ],
      "metadata": {
        "id": "DB5FLWvMYBWh"
      },
      "execution_count": null,
      "outputs": []
    },
    {
      "cell_type": "code",
      "source": [
        "X = [12, 13, 56, 23, 41, 28, 51]\n",
        "Y = [51, 63, 37, 88, 33, 72, 81]"
      ],
      "metadata": {
        "id": "41o-joKqXYCq"
      },
      "execution_count": null,
      "outputs": []
    },
    {
      "cell_type": "code",
      "source": [
        "X_mean = np.mean(X)\n",
        "Y_mean = np.mean(Y)\n",
        "\n",
        "X_median = np.median(X)\n",
        "Y_median = np.median(Y)\n",
        "\n",
        "X_mode = np.argmax(np.bincount(X))\n",
        "Y_mode = np.argmax(np.bincount(Y))\n",
        "\n",
        "X_variance = np.var(X)\n",
        "Y_variance = np.var(Y)\n",
        "\n",
        "X_std = np.std(X)\n",
        "Y_std = np.std(Y)\n",
        "\n",
        "X_range = np.max(X) - np.min(X)\n",
        "Y_range = np.max(Y) - np.min(Y)\n",
        "\n",
        "X_IQR = stats.iqr(X)\n",
        "Y_IQR = stats.iqr(Y)\n",
        "\n",
        "X_skewness = stats.skew(X)\n",
        "Y_skewness = stats.skew(Y)\n",
        "\n",
        "X_kurtosis = stats.kurtosis(X)\n",
        "Y_kurtosis = stats.kurtosis(Y)"
      ],
      "metadata": {
        "id": "MWa3t0lxXxOF"
      },
      "execution_count": null,
      "outputs": []
    },
    {
      "cell_type": "code",
      "source": [
        "print(\"Mean of Dependent Variables: \", X_mean)\n",
        "print(\"Median of Dependent Variables: \", X_median)\n",
        "print(\"Mode of Dependent Variables: \", X_mode)\n",
        "print(\"Variance of Dependent Variables: \", X_variance)\n",
        "print(\"Standard Deviation of Dependent Variables: \", X_std)\n",
        "print(\"Range of Dependent Variables: \", X_range)\n",
        "print(\"IQR of Dependent Variables: \", X_IQR)\n",
        "print(\"Skewness of Dependent Variables: \", X_skewness)\n",
        "print(\"Kurtosis of Dependent Variables: \", X_kurtosis)\n",
        "print()"
      ],
      "metadata": {
        "colab": {
          "base_uri": "https://localhost:8080/"
        },
        "id": "vsXvjKM8YXDT",
        "outputId": "e1309b6d-f6f2-4582-dccf-5b576bdf3dca"
      },
      "execution_count": null,
      "outputs": [
        {
          "output_type": "stream",
          "name": "stdout",
          "text": [
            "Mean of Dependent Variables:  32.0\n",
            "Median of Dependent Variables:  28.0\n",
            "Mode of Dependent Variables:  12\n",
            "Variance of Dependent Variables:  268.0\n",
            "Standard Deviation of Dependent Variables:  16.3707055437449\n",
            "Range of Dependent Variables:  44\n",
            "IQR of Dependent Variables:  28.0\n",
            "Skewness of Dependent Variables:  0.18755223867066048\n",
            "Kurtosis of Dependent Variables:  -1.47684021258314\n",
            "\n"
          ]
        }
      ]
    },
    {
      "cell_type": "code",
      "source": [
        "print(\"Mean of Independent Variables: \", Y_mean)\n",
        "print(\"Median of Independent Variables: \", Y_median)\n",
        "print(\"Mode of Independent Variables: \", Y_mode)\n",
        "print(\"Variance of Independent Variables: \", Y_variance)\n",
        "print(\"Standard Deviation of Independent Variables: \", Y_std)\n",
        "print(\"Range of Independent Variables: \", Y_range)\n",
        "print(\"IQR of Independent Variables: \", Y_IQR)\n",
        "print(\"Skewness of Independent Variables: \", Y_skewness)\n",
        "print(\"Kurtosis of Independent Variables: \", Y_kurtosis)\n",
        "print()"
      ],
      "metadata": {
        "colab": {
          "base_uri": "https://localhost:8080/"
        },
        "id": "BiPuRauzYn1Q",
        "outputId": "78c3de76-138a-4178-e0cc-194b580fbee2"
      },
      "execution_count": null,
      "outputs": [
        {
          "output_type": "stream",
          "name": "stdout",
          "text": [
            "Mean of Independent Variables:  60.714285714285715\n",
            "Median of Independent Variables:  63.0\n",
            "Mode of Independent Variables:  33\n",
            "Variance of Independent Variables:  387.6326530612245\n",
            "Standard Deviation of Independent Variables:  19.68838878784205\n",
            "Range of Independent Variables:  55\n",
            "IQR of Independent Variables:  32.5\n",
            "Skewness of Independent Variables:  -0.10160487226954186\n",
            "Kurtosis of Independent Variables:  -1.4265295827972655\n",
            "\n"
          ]
        }
      ]
    },
    {
      "cell_type": "markdown",
      "source": [
        "**3. From the above data Find Mean, Median, Mode, Variance, Standard deviation, Range , Interquartile Range (IQR),  Skewness ,Kurtosis of each feature.**"
      ],
      "metadata": {
        "id": "eEen7AhqdIJk"
      }
    },
    {
      "cell_type": "code",
      "source": [
        "import pandas as pd"
      ],
      "metadata": {
        "id": "Xj3HJWktahUU"
      },
      "execution_count": null,
      "outputs": []
    },
    {
      "cell_type": "code",
      "source": [
        "data = pd.read_csv('/content/housing.csv')\n",
        "data.head()"
      ],
      "metadata": {
        "colab": {
          "base_uri": "https://localhost:8080/",
          "height": 226
        },
        "id": "JraJufDSZzSh",
        "outputId": "b06889ea-6168-474f-a593-ee89c7997ca2"
      },
      "execution_count": null,
      "outputs": [
        {
          "output_type": "execute_result",
          "data": {
            "text/plain": [
              "   longitude  latitude  housing_median_age  total_rooms  total_bedrooms  \\\n",
              "0    -122.23     37.88                41.0        880.0           129.0   \n",
              "1    -122.22     37.86                21.0       7099.0          1106.0   \n",
              "2    -122.24     37.85                52.0       1467.0           190.0   \n",
              "3    -122.25     37.85                52.0       1274.0           235.0   \n",
              "4    -122.25     37.85                52.0       1627.0           280.0   \n",
              "\n",
              "   population  households  median_income  median_house_value ocean_proximity  \n",
              "0       322.0       126.0         8.3252            452600.0        NEAR BAY  \n",
              "1      2401.0      1138.0         8.3014            358500.0        NEAR BAY  \n",
              "2       496.0       177.0         7.2574            352100.0        NEAR BAY  \n",
              "3       558.0       219.0         5.6431            341300.0        NEAR BAY  \n",
              "4       565.0       259.0         3.8462            342200.0        NEAR BAY  "
            ],
            "text/html": [
              "\n",
              "  <div id=\"df-36effbe3-1f42-49f6-935e-393cc5510526\" class=\"colab-df-container\">\n",
              "    <div>\n",
              "<style scoped>\n",
              "    .dataframe tbody tr th:only-of-type {\n",
              "        vertical-align: middle;\n",
              "    }\n",
              "\n",
              "    .dataframe tbody tr th {\n",
              "        vertical-align: top;\n",
              "    }\n",
              "\n",
              "    .dataframe thead th {\n",
              "        text-align: right;\n",
              "    }\n",
              "</style>\n",
              "<table border=\"1\" class=\"dataframe\">\n",
              "  <thead>\n",
              "    <tr style=\"text-align: right;\">\n",
              "      <th></th>\n",
              "      <th>longitude</th>\n",
              "      <th>latitude</th>\n",
              "      <th>housing_median_age</th>\n",
              "      <th>total_rooms</th>\n",
              "      <th>total_bedrooms</th>\n",
              "      <th>population</th>\n",
              "      <th>households</th>\n",
              "      <th>median_income</th>\n",
              "      <th>median_house_value</th>\n",
              "      <th>ocean_proximity</th>\n",
              "    </tr>\n",
              "  </thead>\n",
              "  <tbody>\n",
              "    <tr>\n",
              "      <th>0</th>\n",
              "      <td>-122.23</td>\n",
              "      <td>37.88</td>\n",
              "      <td>41.0</td>\n",
              "      <td>880.0</td>\n",
              "      <td>129.0</td>\n",
              "      <td>322.0</td>\n",
              "      <td>126.0</td>\n",
              "      <td>8.3252</td>\n",
              "      <td>452600.0</td>\n",
              "      <td>NEAR BAY</td>\n",
              "    </tr>\n",
              "    <tr>\n",
              "      <th>1</th>\n",
              "      <td>-122.22</td>\n",
              "      <td>37.86</td>\n",
              "      <td>21.0</td>\n",
              "      <td>7099.0</td>\n",
              "      <td>1106.0</td>\n",
              "      <td>2401.0</td>\n",
              "      <td>1138.0</td>\n",
              "      <td>8.3014</td>\n",
              "      <td>358500.0</td>\n",
              "      <td>NEAR BAY</td>\n",
              "    </tr>\n",
              "    <tr>\n",
              "      <th>2</th>\n",
              "      <td>-122.24</td>\n",
              "      <td>37.85</td>\n",
              "      <td>52.0</td>\n",
              "      <td>1467.0</td>\n",
              "      <td>190.0</td>\n",
              "      <td>496.0</td>\n",
              "      <td>177.0</td>\n",
              "      <td>7.2574</td>\n",
              "      <td>352100.0</td>\n",
              "      <td>NEAR BAY</td>\n",
              "    </tr>\n",
              "    <tr>\n",
              "      <th>3</th>\n",
              "      <td>-122.25</td>\n",
              "      <td>37.85</td>\n",
              "      <td>52.0</td>\n",
              "      <td>1274.0</td>\n",
              "      <td>235.0</td>\n",
              "      <td>558.0</td>\n",
              "      <td>219.0</td>\n",
              "      <td>5.6431</td>\n",
              "      <td>341300.0</td>\n",
              "      <td>NEAR BAY</td>\n",
              "    </tr>\n",
              "    <tr>\n",
              "      <th>4</th>\n",
              "      <td>-122.25</td>\n",
              "      <td>37.85</td>\n",
              "      <td>52.0</td>\n",
              "      <td>1627.0</td>\n",
              "      <td>280.0</td>\n",
              "      <td>565.0</td>\n",
              "      <td>259.0</td>\n",
              "      <td>3.8462</td>\n",
              "      <td>342200.0</td>\n",
              "      <td>NEAR BAY</td>\n",
              "    </tr>\n",
              "  </tbody>\n",
              "</table>\n",
              "</div>\n",
              "    <div class=\"colab-df-buttons\">\n",
              "\n",
              "  <div class=\"colab-df-container\">\n",
              "    <button class=\"colab-df-convert\" onclick=\"convertToInteractive('df-36effbe3-1f42-49f6-935e-393cc5510526')\"\n",
              "            title=\"Convert this dataframe to an interactive table.\"\n",
              "            style=\"display:none;\">\n",
              "\n",
              "  <svg xmlns=\"http://www.w3.org/2000/svg\" height=\"24px\" viewBox=\"0 -960 960 960\">\n",
              "    <path d=\"M120-120v-720h720v720H120Zm60-500h600v-160H180v160Zm220 220h160v-160H400v160Zm0 220h160v-160H400v160ZM180-400h160v-160H180v160Zm440 0h160v-160H620v160ZM180-180h160v-160H180v160Zm440 0h160v-160H620v160Z\"/>\n",
              "  </svg>\n",
              "    </button>\n",
              "\n",
              "  <style>\n",
              "    .colab-df-container {\n",
              "      display:flex;\n",
              "      gap: 12px;\n",
              "    }\n",
              "\n",
              "    .colab-df-convert {\n",
              "      background-color: #E8F0FE;\n",
              "      border: none;\n",
              "      border-radius: 50%;\n",
              "      cursor: pointer;\n",
              "      display: none;\n",
              "      fill: #1967D2;\n",
              "      height: 32px;\n",
              "      padding: 0 0 0 0;\n",
              "      width: 32px;\n",
              "    }\n",
              "\n",
              "    .colab-df-convert:hover {\n",
              "      background-color: #E2EBFA;\n",
              "      box-shadow: 0px 1px 2px rgba(60, 64, 67, 0.3), 0px 1px 3px 1px rgba(60, 64, 67, 0.15);\n",
              "      fill: #174EA6;\n",
              "    }\n",
              "\n",
              "    .colab-df-buttons div {\n",
              "      margin-bottom: 4px;\n",
              "    }\n",
              "\n",
              "    [theme=dark] .colab-df-convert {\n",
              "      background-color: #3B4455;\n",
              "      fill: #D2E3FC;\n",
              "    }\n",
              "\n",
              "    [theme=dark] .colab-df-convert:hover {\n",
              "      background-color: #434B5C;\n",
              "      box-shadow: 0px 1px 3px 1px rgba(0, 0, 0, 0.15);\n",
              "      filter: drop-shadow(0px 1px 2px rgba(0, 0, 0, 0.3));\n",
              "      fill: #FFFFFF;\n",
              "    }\n",
              "  </style>\n",
              "\n",
              "    <script>\n",
              "      const buttonEl =\n",
              "        document.querySelector('#df-36effbe3-1f42-49f6-935e-393cc5510526 button.colab-df-convert');\n",
              "      buttonEl.style.display =\n",
              "        google.colab.kernel.accessAllowed ? 'block' : 'none';\n",
              "\n",
              "      async function convertToInteractive(key) {\n",
              "        const element = document.querySelector('#df-36effbe3-1f42-49f6-935e-393cc5510526');\n",
              "        const dataTable =\n",
              "          await google.colab.kernel.invokeFunction('convertToInteractive',\n",
              "                                                    [key], {});\n",
              "        if (!dataTable) return;\n",
              "\n",
              "        const docLinkHtml = 'Like what you see? Visit the ' +\n",
              "          '<a target=\"_blank\" href=https://colab.research.google.com/notebooks/data_table.ipynb>data table notebook</a>'\n",
              "          + ' to learn more about interactive tables.';\n",
              "        element.innerHTML = '';\n",
              "        dataTable['output_type'] = 'display_data';\n",
              "        await google.colab.output.renderOutput(dataTable, element);\n",
              "        const docLink = document.createElement('div');\n",
              "        docLink.innerHTML = docLinkHtml;\n",
              "        element.appendChild(docLink);\n",
              "      }\n",
              "    </script>\n",
              "  </div>\n",
              "\n",
              "\n",
              "<div id=\"df-beea3cc4-33bb-41e3-a419-cc9af03b7577\">\n",
              "  <button class=\"colab-df-quickchart\" onclick=\"quickchart('df-beea3cc4-33bb-41e3-a419-cc9af03b7577')\"\n",
              "            title=\"Suggest charts\"\n",
              "            style=\"display:none;\">\n",
              "\n",
              "<svg xmlns=\"http://www.w3.org/2000/svg\" height=\"24px\"viewBox=\"0 0 24 24\"\n",
              "     width=\"24px\">\n",
              "    <g>\n",
              "        <path d=\"M19 3H5c-1.1 0-2 .9-2 2v14c0 1.1.9 2 2 2h14c1.1 0 2-.9 2-2V5c0-1.1-.9-2-2-2zM9 17H7v-7h2v7zm4 0h-2V7h2v10zm4 0h-2v-4h2v4z\"/>\n",
              "    </g>\n",
              "</svg>\n",
              "  </button>\n",
              "\n",
              "<style>\n",
              "  .colab-df-quickchart {\n",
              "      --bg-color: #E8F0FE;\n",
              "      --fill-color: #1967D2;\n",
              "      --hover-bg-color: #E2EBFA;\n",
              "      --hover-fill-color: #174EA6;\n",
              "      --disabled-fill-color: #AAA;\n",
              "      --disabled-bg-color: #DDD;\n",
              "  }\n",
              "\n",
              "  [theme=dark] .colab-df-quickchart {\n",
              "      --bg-color: #3B4455;\n",
              "      --fill-color: #D2E3FC;\n",
              "      --hover-bg-color: #434B5C;\n",
              "      --hover-fill-color: #FFFFFF;\n",
              "      --disabled-bg-color: #3B4455;\n",
              "      --disabled-fill-color: #666;\n",
              "  }\n",
              "\n",
              "  .colab-df-quickchart {\n",
              "    background-color: var(--bg-color);\n",
              "    border: none;\n",
              "    border-radius: 50%;\n",
              "    cursor: pointer;\n",
              "    display: none;\n",
              "    fill: var(--fill-color);\n",
              "    height: 32px;\n",
              "    padding: 0;\n",
              "    width: 32px;\n",
              "  }\n",
              "\n",
              "  .colab-df-quickchart:hover {\n",
              "    background-color: var(--hover-bg-color);\n",
              "    box-shadow: 0 1px 2px rgba(60, 64, 67, 0.3), 0 1px 3px 1px rgba(60, 64, 67, 0.15);\n",
              "    fill: var(--button-hover-fill-color);\n",
              "  }\n",
              "\n",
              "  .colab-df-quickchart-complete:disabled,\n",
              "  .colab-df-quickchart-complete:disabled:hover {\n",
              "    background-color: var(--disabled-bg-color);\n",
              "    fill: var(--disabled-fill-color);\n",
              "    box-shadow: none;\n",
              "  }\n",
              "\n",
              "  .colab-df-spinner {\n",
              "    border: 2px solid var(--fill-color);\n",
              "    border-color: transparent;\n",
              "    border-bottom-color: var(--fill-color);\n",
              "    animation:\n",
              "      spin 1s steps(1) infinite;\n",
              "  }\n",
              "\n",
              "  @keyframes spin {\n",
              "    0% {\n",
              "      border-color: transparent;\n",
              "      border-bottom-color: var(--fill-color);\n",
              "      border-left-color: var(--fill-color);\n",
              "    }\n",
              "    20% {\n",
              "      border-color: transparent;\n",
              "      border-left-color: var(--fill-color);\n",
              "      border-top-color: var(--fill-color);\n",
              "    }\n",
              "    30% {\n",
              "      border-color: transparent;\n",
              "      border-left-color: var(--fill-color);\n",
              "      border-top-color: var(--fill-color);\n",
              "      border-right-color: var(--fill-color);\n",
              "    }\n",
              "    40% {\n",
              "      border-color: transparent;\n",
              "      border-right-color: var(--fill-color);\n",
              "      border-top-color: var(--fill-color);\n",
              "    }\n",
              "    60% {\n",
              "      border-color: transparent;\n",
              "      border-right-color: var(--fill-color);\n",
              "    }\n",
              "    80% {\n",
              "      border-color: transparent;\n",
              "      border-right-color: var(--fill-color);\n",
              "      border-bottom-color: var(--fill-color);\n",
              "    }\n",
              "    90% {\n",
              "      border-color: transparent;\n",
              "      border-bottom-color: var(--fill-color);\n",
              "    }\n",
              "  }\n",
              "</style>\n",
              "\n",
              "  <script>\n",
              "    async function quickchart(key) {\n",
              "      const quickchartButtonEl =\n",
              "        document.querySelector('#' + key + ' button');\n",
              "      quickchartButtonEl.disabled = true;  // To prevent multiple clicks.\n",
              "      quickchartButtonEl.classList.add('colab-df-spinner');\n",
              "      try {\n",
              "        const charts = await google.colab.kernel.invokeFunction(\n",
              "            'suggestCharts', [key], {});\n",
              "      } catch (error) {\n",
              "        console.error('Error during call to suggestCharts:', error);\n",
              "      }\n",
              "      quickchartButtonEl.classList.remove('colab-df-spinner');\n",
              "      quickchartButtonEl.classList.add('colab-df-quickchart-complete');\n",
              "    }\n",
              "    (() => {\n",
              "      let quickchartButtonEl =\n",
              "        document.querySelector('#df-beea3cc4-33bb-41e3-a419-cc9af03b7577 button');\n",
              "      quickchartButtonEl.style.display =\n",
              "        google.colab.kernel.accessAllowed ? 'block' : 'none';\n",
              "    })();\n",
              "  </script>\n",
              "</div>\n",
              "\n",
              "    </div>\n",
              "  </div>\n"
            ],
            "application/vnd.google.colaboratory.intrinsic+json": {
              "type": "dataframe",
              "variable_name": "data",
              "summary": "{\n  \"name\": \"data\",\n  \"rows\": 20640,\n  \"fields\": [\n    {\n      \"column\": \"longitude\",\n      \"properties\": {\n        \"dtype\": \"number\",\n        \"std\": 2.0035317235025882,\n        \"min\": -124.35,\n        \"max\": -114.31,\n        \"num_unique_values\": 844,\n        \"samples\": [\n          -118.63,\n          -119.86,\n          -121.26\n        ],\n        \"semantic_type\": \"\",\n        \"description\": \"\"\n      }\n    },\n    {\n      \"column\": \"latitude\",\n      \"properties\": {\n        \"dtype\": \"number\",\n        \"std\": 2.1359523974571153,\n        \"min\": 32.54,\n        \"max\": 41.95,\n        \"num_unique_values\": 862,\n        \"samples\": [\n          33.7,\n          34.41,\n          38.24\n        ],\n        \"semantic_type\": \"\",\n        \"description\": \"\"\n      }\n    },\n    {\n      \"column\": \"housing_median_age\",\n      \"properties\": {\n        \"dtype\": \"number\",\n        \"std\": 12.58555761211165,\n        \"min\": 1.0,\n        \"max\": 52.0,\n        \"num_unique_values\": 52,\n        \"samples\": [\n          35.0,\n          25.0,\n          7.0\n        ],\n        \"semantic_type\": \"\",\n        \"description\": \"\"\n      }\n    },\n    {\n      \"column\": \"total_rooms\",\n      \"properties\": {\n        \"dtype\": \"number\",\n        \"std\": 2181.615251582795,\n        \"min\": 2.0,\n        \"max\": 39320.0,\n        \"num_unique_values\": 5926,\n        \"samples\": [\n          699.0,\n          1544.0,\n          3966.0\n        ],\n        \"semantic_type\": \"\",\n        \"description\": \"\"\n      }\n    },\n    {\n      \"column\": \"total_bedrooms\",\n      \"properties\": {\n        \"dtype\": \"number\",\n        \"std\": 421.3850700740323,\n        \"min\": 1.0,\n        \"max\": 6445.0,\n        \"num_unique_values\": 1923,\n        \"samples\": [\n          1538.0,\n          1298.0,\n          1578.0\n        ],\n        \"semantic_type\": \"\",\n        \"description\": \"\"\n      }\n    },\n    {\n      \"column\": \"population\",\n      \"properties\": {\n        \"dtype\": \"number\",\n        \"std\": 1132.462121765341,\n        \"min\": 3.0,\n        \"max\": 35682.0,\n        \"num_unique_values\": 3888,\n        \"samples\": [\n          4169.0,\n          636.0,\n          3367.0\n        ],\n        \"semantic_type\": \"\",\n        \"description\": \"\"\n      }\n    },\n    {\n      \"column\": \"households\",\n      \"properties\": {\n        \"dtype\": \"number\",\n        \"std\": 382.32975283161073,\n        \"min\": 1.0,\n        \"max\": 6082.0,\n        \"num_unique_values\": 1815,\n        \"samples\": [\n          21.0,\n          750.0,\n          1447.0\n        ],\n        \"semantic_type\": \"\",\n        \"description\": \"\"\n      }\n    },\n    {\n      \"column\": \"median_income\",\n      \"properties\": {\n        \"dtype\": \"number\",\n        \"std\": 1.8998217179452688,\n        \"min\": 0.4999,\n        \"max\": 15.0001,\n        \"num_unique_values\": 12928,\n        \"samples\": [\n          5.0286,\n          2.0433,\n          6.1228\n        ],\n        \"semantic_type\": \"\",\n        \"description\": \"\"\n      }\n    },\n    {\n      \"column\": \"median_house_value\",\n      \"properties\": {\n        \"dtype\": \"number\",\n        \"std\": 115395.61587441387,\n        \"min\": 14999.0,\n        \"max\": 500001.0,\n        \"num_unique_values\": 3842,\n        \"samples\": [\n          194300.0,\n          379000.0,\n          230100.0\n        ],\n        \"semantic_type\": \"\",\n        \"description\": \"\"\n      }\n    },\n    {\n      \"column\": \"ocean_proximity\",\n      \"properties\": {\n        \"dtype\": \"category\",\n        \"num_unique_values\": 5,\n        \"samples\": [\n          \"<1H OCEAN\",\n          \"ISLAND\",\n          \"INLAND\"\n        ],\n        \"semantic_type\": \"\",\n        \"description\": \"\"\n      }\n    }\n  ]\n}"
            }
          },
          "metadata": {},
          "execution_count": 11
        }
      ]
    },
    {
      "cell_type": "markdown",
      "source": [
        "**longitude**"
      ],
      "metadata": {
        "id": "vS_4KwUwcRQE"
      }
    },
    {
      "cell_type": "code",
      "source": [
        "long_mean = np.mean(data['longitude'])\n",
        "long_median = np.median(data['longitude'])\n",
        "long_mode = stats.mode(data['longitude'])\n",
        "long_variance = np.var(data['longitude'])\n",
        "long_std = np.std(data['longitude'])\n",
        "long_range = np.max(data['longitude']) - np.min(data['longitude'])\n",
        "long_IQR = stats.iqr(data['longitude'])\n",
        "long_skewness = stats.skew(data['longitude'])\n",
        "long_kurtosis = stats.kurtosis(data['longitude'])\n",
        "\n",
        "print(\"Mean of longitude: \", long_mean)\n",
        "print(\"Median of longitude: \", long_median)\n",
        "print(\"Mode of longitude: \", long_mode)\n",
        "print(\"Variance of longitude: \", long_variance)\n",
        "print(\"Standard Deviation of longitude: \", long_std)\n",
        "print(\"Range of longitude: \", long_range)\n",
        "print(\"IQR of longitude: \", long_IQR)\n",
        "print(\"Skewness of longitude: \", long_skewness)\n",
        "print(\"Kurtosis of longitude: \", long_kurtosis)\n",
        "print()"
      ],
      "metadata": {
        "colab": {
          "base_uri": "https://localhost:8080/"
        },
        "id": "vrCqoUWhbXCp",
        "outputId": "132e8c20-39ab-4e88-cb3c-00d552a26577"
      },
      "execution_count": null,
      "outputs": [
        {
          "output_type": "stream",
          "name": "stdout",
          "text": [
            "Mean of longitude:  -119.56970445736432\n",
            "Median of longitude:  -118.49\n",
            "Mode of longitude:  ModeResult(mode=-118.31, count=162)\n",
            "Variance of longitude:  4.0139448835847835\n",
            "Standard Deviation of longitude:  2.003483187746976\n",
            "Range of longitude:  10.039999999999992\n",
            "IQR of longitude:  3.789999999999992\n",
            "Skewness of longitude:  -0.29777956498586855\n",
            "Kurtosis of longitude:  -1.3301208448425363\n",
            "\n"
          ]
        }
      ]
    },
    {
      "cell_type": "markdown",
      "source": [
        "**latitude**"
      ],
      "metadata": {
        "id": "uORIizzIcWHr"
      }
    },
    {
      "cell_type": "code",
      "source": [
        "lat_mean = np.mean(data['latitude'])\n",
        "lat_median = np.median(data['latitude'])\n",
        "lat_mode = stats.mode(data['latitude'])\n",
        "lat_variance = np.var(data['latitude'])\n",
        "lat_std = np.std(data['latitude'])\n",
        "lat_range = np.max(data['latitude']) - np.min(data['latitude'])\n",
        "lat_IQR = stats.iqr(data['latitude'])\n",
        "lat_skewness = stats.skew(data['latitude'])\n",
        "lat_kurtosis = stats.kurtosis(data['latitude'])\n",
        "\n",
        "print(\"Mean of latitude: \", lat_mean)\n",
        "print(\"Median of latitude: \", lat_median)\n",
        "print(\"Mode of latitude: \", lat_mode)\n",
        "print(\"Variance of latitude: \", lat_variance)\n",
        "print(\"Standard Deviation of latitude: \", lat_std)\n",
        "print(\"Range of latitude: \", lat_range)\n",
        "print(\"IQR of latitude: \", lat_IQR)\n",
        "print(\"Skewness of latitude: \", lat_skewness)\n",
        "print(\"Kurtosis of latitude: \", lat_kurtosis)\n",
        "print()"
      ],
      "metadata": {
        "colab": {
          "base_uri": "https://localhost:8080/"
        },
        "id": "Bcqg-L9_bYB2",
        "outputId": "376f3ee1-1a00-40f3-f3ed-3bca11255a98"
      },
      "execution_count": null,
      "outputs": [
        {
          "output_type": "stream",
          "name": "stdout",
          "text": [
            "Mean of latitude:  35.63186143410853\n",
            "Median of latitude:  34.26\n",
            "Mode of latitude:  ModeResult(mode=34.06, count=244)\n",
            "Variance of latitude:  4.562071602892517\n",
            "Standard Deviation of latitude:  2.135900653797483\n",
            "Range of latitude:  9.410000000000004\n",
            "IQR of latitude:  3.780000000000001\n",
            "Skewness of latitude:  0.46591914016270397\n",
            "Kurtosis of latitude:  -1.117779708313892\n",
            "\n"
          ]
        }
      ]
    },
    {
      "cell_type": "markdown",
      "source": [
        "**housing_median_age**"
      ],
      "metadata": {
        "id": "U73KPVO4cZsB"
      }
    },
    {
      "cell_type": "code",
      "source": [
        "h_mean = np.mean(data['housing_median_age'])\n",
        "h_median = np.median(data['housing_median_age'])\n",
        "h_mode = stats.mode(data['housing_median_age'])\n",
        "h_variance = np.var(data['housing_median_age'])\n",
        "h_std = np.std(data['housing_median_age'])\n",
        "h_range = np.max(data['housing_median_age']) - np.min(data['housing_median_age'])\n",
        "h_IQR = stats.iqr(data['housing_median_age'])\n",
        "h_skewness = stats.skew(data['housing_median_age'])\n",
        "h_kurtosis = stats.kurtosis(data['housing_median_age'])\n",
        "\n",
        "print(\"Mean of housing_median_age: \", h_mean)\n",
        "print(\"Median of housing_median_age: \", h_median)\n",
        "print(\"Mode of housing_median_age: \", h_mode)\n",
        "print(\"Variance of housing_median_age: \", h_variance)\n",
        "print(\"Standard Deviation of housing_median_age: \", h_std)\n",
        "print(\"Range of housing_median_age: \", h_range)\n",
        "print(\"IQR of housing_median_age: \", h_IQR)\n",
        "print(\"Skewness of housing_median_age: \", h_skewness)\n",
        "print(\"Kurtosis of housing_median_age: \", h_kurtosis)\n",
        "print()"
      ],
      "metadata": {
        "colab": {
          "base_uri": "https://localhost:8080/"
        },
        "id": "-0h-3D6rbbar",
        "outputId": "63430c1b-b0cd-483e-b973-450579a85cf7"
      },
      "execution_count": null,
      "outputs": [
        {
          "output_type": "stream",
          "name": "stdout",
          "text": [
            "Mean of housing_median_age:  28.639486434108527\n",
            "Median of housing_median_age:  29.0\n",
            "Mode of housing_median_age:  ModeResult(mode=52.0, count=1273)\n",
            "Variance of housing_median_age:  158.38858617035862\n",
            "Standard Deviation of housing_median_age:  12.585252725724606\n",
            "Range of housing_median_age:  51.0\n",
            "IQR of housing_median_age:  19.0\n",
            "Skewness of housing_median_age:  0.06032625301661101\n",
            "Kurtosis of housing_median_age:  -0.8007255995444988\n",
            "\n"
          ]
        }
      ]
    },
    {
      "cell_type": "markdown",
      "source": [
        "**total_rooms**"
      ],
      "metadata": {
        "id": "RqYyR7EVcqq7"
      }
    },
    {
      "cell_type": "code",
      "source": [
        "tr_mean = np.mean(data['total_rooms'])\n",
        "tr_median = np.median(data['total_rooms'])\n",
        "tr_mode = stats.mode(data['total_rooms'])\n",
        "tr_variance = np.var(data['total_rooms'])\n",
        "tr_std = np.std(data['total_rooms'])\n",
        "tr_range = np.max(data['total_rooms']) - np.min(data['total_rooms'])\n",
        "tr_IQR = stats.iqr(data['total_rooms'])\n",
        "tr_skewness = stats.skew(data['total_rooms'])\n",
        "tr_kurtosis = stats.kurtosis(data['total_rooms'])\n",
        "\n",
        "print(\"Mean of total_rooms: \", tr_mean)\n",
        "print(\"Median of total_rooms: \", tr_median)\n",
        "print(\"Mode of total_rooms: \", tr_mode)\n",
        "print(\"Variance of total_rooms: \", tr_variance)\n",
        "print(\"Standard Deviation of total_rooms: \", tr_std)\n",
        "print(\"Range of total_rooms: \", tr_range)\n",
        "print(\"IQR of total_rooms: \", tr_IQR)\n",
        "print(\"Skewness of total_rooms: \", tr_skewness)\n",
        "print(\"Kurtosis of total_rooms: \", tr_kurtosis)\n",
        "print()"
      ],
      "metadata": {
        "colab": {
          "base_uri": "https://localhost:8080/"
        },
        "id": "frswAGC7bew-",
        "outputId": "15fbf4bd-b479-415b-93c0-7bcddbfbc979"
      },
      "execution_count": null,
      "outputs": [
        {
          "output_type": "stream",
          "name": "stdout",
          "text": [
            "Mean of total_rooms:  2635.7630813953488\n",
            "Median of total_rooms:  2127.0\n",
            "Mode of total_rooms:  ModeResult(mode=1527.0, count=18)\n",
            "Variance of total_rooms:  4759214.512668024\n",
            "Standard Deviation of total_rooms:  2181.5624017359723\n",
            "Range of total_rooms:  39318.0\n",
            "IQR of total_rooms:  1700.25\n",
            "Skewness of total_rooms:  4.147042038773343\n",
            "Kurtosis of total_rooms:  32.6227320729488\n",
            "\n"
          ]
        }
      ]
    },
    {
      "cell_type": "markdown",
      "source": [
        "**total_bedrooms**"
      ],
      "metadata": {
        "id": "1lcsKT66cuQn"
      }
    },
    {
      "cell_type": "code",
      "source": [
        "tb_mean = np.mean(data['total_bedrooms'])\n",
        "tb_median = np.median(data['total_bedrooms'])\n",
        "tb_mode = stats.mode(data['total_bedrooms'])\n",
        "tb_variance = np.var(data['total_bedrooms'])\n",
        "tb_std = np.std(data['total_bedrooms'])\n",
        "tb_range = np.max(data['total_bedrooms']) - np.min(data['total_bedrooms'])\n",
        "tb_IQR = stats.iqr(data['total_bedrooms'])\n",
        "tb_skewness = stats.skew(data['total_bedrooms'])\n",
        "tb_kurtosis = stats.kurtosis(data['total_bedrooms'])\n",
        "\n",
        "print(\"Mean of total_bedrooms: \", tb_mean)\n",
        "print(\"Median of total_bedrooms: \", tb_median)\n",
        "print(\"Mode of total_bedrooms: \", tb_mode)\n",
        "print(\"Variance of total_bedrooms: \", tb_variance)\n",
        "print(\"Standard Deviation of total_bedrooms: \", tb_std)\n",
        "print(\"Range of total_bedrooms: \", tb_range)\n",
        "print(\"IQR of total_bedrooms: \", tb_IQR)\n",
        "print(\"Skewness of total_bedrooms: \", tb_skewness)\n",
        "print(\"Kurtosis of total_bedrooms: \", tb_kurtosis)\n",
        "print()"
      ],
      "metadata": {
        "colab": {
          "base_uri": "https://localhost:8080/"
        },
        "id": "I6pcziDpbh54",
        "outputId": "0347f830-ea15-4cdd-8839-7b12073e6b97"
      },
      "execution_count": null,
      "outputs": [
        {
          "output_type": "stream",
          "name": "stdout",
          "text": [
            "Mean of total_bedrooms:  537.8705525375618\n",
            "Median of total_bedrooms:  nan\n",
            "Mode of total_bedrooms:  ModeResult(mode=nan, count=207)\n",
            "Variance of total_bedrooms:  177556.6871536956\n",
            "Standard Deviation of total_bedrooms:  421.37475856260727\n",
            "Range of total_bedrooms:  6444.0\n",
            "IQR of total_bedrooms:  nan\n",
            "Skewness of total_bedrooms:  nan\n",
            "Kurtosis of total_bedrooms:  nan\n",
            "\n"
          ]
        }
      ]
    },
    {
      "cell_type": "markdown",
      "source": [
        "**population**"
      ],
      "metadata": {
        "id": "rh5KGmhkcydh"
      }
    },
    {
      "cell_type": "code",
      "source": [
        "pop_mean = np.mean(data['population'])\n",
        "pop_median = np.median(data['population'])\n",
        "pop_mode = stats.mode(data['population'])\n",
        "pop_variance = np.var(data['population'])\n",
        "pop_std = np.std(data['population'])\n",
        "pop_range = np.max(data['population']) - np.min(data['population'])\n",
        "pop_IQR = stats.iqr(data['population'])\n",
        "pop_skewness = stats.skew(data['population'])\n",
        "pop_kurtosis = stats.kurtosis(data['population'])\n",
        "\n",
        "print(\"Mean of population: \", pop_mean)\n",
        "print(\"Median of population: \", pop_median)\n",
        "print(\"Mode of population: \", pop_mode)\n",
        "print(\"Variance of population: \", pop_variance)\n",
        "print(\"Standard Deviation of population: \", pop_std)\n",
        "print(\"Range of population: \", pop_range)\n",
        "print(\"IQR of population: \", pop_IQR)\n",
        "print(\"Skewness of population: \", pop_skewness)\n",
        "print(\"Kurtosis of population: \", pop_kurtosis)\n",
        "print()"
      ],
      "metadata": {
        "colab": {
          "base_uri": "https://localhost:8080/"
        },
        "id": "3383KUjrbnZj",
        "outputId": "118fb165-0fc8-415c-af3a-b0a7f0e9ae3c"
      },
      "execution_count": null,
      "outputs": [
        {
          "output_type": "stream",
          "name": "stdout",
          "text": [
            "Mean of population:  1425.4767441860465\n",
            "Median of population:  1166.0\n",
            "Mode of population:  ModeResult(mode=891.0, count=25)\n",
            "Variance of population:  1282408.3220366866\n",
            "Standard Deviation of population:  1132.434687757615\n",
            "Range of population:  35679.0\n",
            "IQR of population:  938.0\n",
            "Skewness of population:  4.93549950885852\n",
            "Kurtosis of population:  73.53500881922278\n",
            "\n"
          ]
        }
      ]
    },
    {
      "cell_type": "markdown",
      "source": [
        "**households**"
      ],
      "metadata": {
        "id": "ZMXg9z2Hc2ky"
      }
    },
    {
      "cell_type": "code",
      "source": [
        "hh_mean = np.mean(data['households'])\n",
        "hh_median = np.median(data['households'])\n",
        "hh_mode = stats.mode(data['households'])\n",
        "hh_variance = np.var(data['households'])\n",
        "hh_std = np.std(data['households'])\n",
        "hh_range = np.max(data['households']) - np.min(data['households'])\n",
        "hh_IQR = stats.iqr(data['households'])\n",
        "hh_skewness = stats.skew(data['households'])\n",
        "hh_kurtosis = stats.kurtosis(data['households'])\n",
        "\n",
        "print(\"Mean of households: \", hh_mean)\n",
        "print(\"Median of households: \", hh_median)\n",
        "print(\"Mode of households: \", hh_mode)\n",
        "print(\"Variance of households: \", hh_variance)\n",
        "print(\"Standard Deviation of households: \", hh_std)\n",
        "print(\"Range of households: \", hh_range)\n",
        "print(\"IQR of households: \", hh_IQR)\n",
        "print(\"Skewness of households: \", hh_skewness)\n",
        "print(\"Kurtosis of households: \", hh_kurtosis)\n",
        "print()\n"
      ],
      "metadata": {
        "colab": {
          "base_uri": "https://localhost:8080/"
        },
        "id": "dpNDNNpeboYh",
        "outputId": "f674481c-c813-4a39-f32d-93bb7ecc81dd"
      },
      "execution_count": null,
      "outputs": [
        {
          "output_type": "stream",
          "name": "stdout",
          "text": [
            "Mean of households:  499.5396802325581\n",
            "Median of households:  409.0\n",
            "Mode of households:  ModeResult(mode=306.0, count=57)\n",
            "Variance of households:  146168.95772780472\n",
            "Standard Deviation of households:  382.3204908552571\n",
            "Range of households:  6081.0\n",
            "IQR of households:  325.0\n",
            "Skewness of households:  3.4101898550856307\n",
            "Kurtosis of households:  22.052354233642966\n",
            "\n"
          ]
        }
      ]
    },
    {
      "cell_type": "markdown",
      "source": [
        "**median_income**"
      ],
      "metadata": {
        "id": "EL_K66GDc6St"
      }
    },
    {
      "cell_type": "code",
      "source": [
        "mi_mean = np.mean(data['median_income'])\n",
        "mi_median = np.median(data['median_income'])\n",
        "mi_mode = stats.mode(data['median_income'])\n",
        "mi_variance = np.var(data['median_income'])\n",
        "mi_std = np.std(data['median_income'])\n",
        "mi_range = np.max(data['median_income']) - np.min(data['median_income'])\n",
        "mi_IQR = stats.iqr(data['median_income'])\n",
        "mi_skewness = stats.skew(data['median_income'])\n",
        "mi_kurtosis = stats.kurtosis(data['median_income'])\n",
        "\n",
        "print(\"Mean of median_income: \", mi_mean)\n",
        "print(\"Median of median_income: \", mi_median)\n",
        "print(\"Mode of median_income: \", mi_mode)\n",
        "print(\"Variance of median_income: \", mi_variance)\n",
        "print(\"Standard Deviation of median_income: \", mi_std)\n",
        "print(\"Range of median_income: \", mi_range)\n",
        "print(\"IQR of median_income: \", mi_IQR)\n",
        "print(\"Skewness of median_income: \", mi_skewness)\n",
        "print(\"Kurtosis of median_income: \", mi_kurtosis)\n",
        "print()"
      ],
      "metadata": {
        "colab": {
          "base_uri": "https://localhost:8080/"
        },
        "id": "AwMhKJZobrSZ",
        "outputId": "e83f0489-4781-4aab-d063-04fee7215430"
      },
      "execution_count": null,
      "outputs": [
        {
          "output_type": "stream",
          "name": "stdout",
          "text": [
            "Mean of median_income:  3.8706710029069766\n",
            "Median of median_income:  3.5347999999999997\n",
            "Mode of median_income:  ModeResult(mode=3.125, count=49)\n",
            "Variance of median_income:  3.609147689697444\n",
            "Standard Deviation of median_income:  1.8997756945748738\n",
            "Range of median_income:  14.5002\n",
            "IQR of median_income:  2.17985\n",
            "Skewness of median_income:  1.64653702990008\n",
            "Kurtosis of median_income:  4.951033760409659\n",
            "\n"
          ]
        }
      ]
    },
    {
      "cell_type": "markdown",
      "source": [
        "**median_house_value**"
      ],
      "metadata": {
        "id": "UEdP3ZFdc928"
      }
    },
    {
      "cell_type": "code",
      "source": [
        "mhv_mean = np.mean(data['median_house_value'])\n",
        "mhv_median = np.median(data['median_house_value'])\n",
        "mhv_mode = stats.mode(data['median_house_value'])\n",
        "mhv_variance = np.var(data['median_house_value'])\n",
        "mhv_std = np.std(data['median_house_value'])\n",
        "mhv_range = np.max(data['median_house_value']) - np.min(data['median_house_value'])\n",
        "mhv_IQR = stats.iqr(data['median_house_value'])\n",
        "mhv_skewness = stats.skew(data['median_house_value'])\n",
        "mhv_kurtosis = stats.kurtosis(data['median_house_value'])\n",
        "\n",
        "print(\"Mean of median_house_value: \", mhv_mean)\n",
        "print(\"Median of median_house_value: \", mhv_median)\n",
        "print(\"Mode of median_house_value: \", mhv_mode)\n",
        "print(\"Variance of median_house_value: \", mhv_variance)\n",
        "print(\"Standard Deviation of median_house_value: \", mhv_std)\n",
        "print(\"Range of median_house_value: \", mhv_range)\n",
        "print(\"IQR of median_house_value: \", mhv_IQR)\n",
        "print(\"Skewness of median_house_value: \", mhv_skewness)\n",
        "print(\"Kurtosis of median_house_value: \", mhv_kurtosis)\n",
        "print()"
      ],
      "metadata": {
        "colab": {
          "base_uri": "https://localhost:8080/"
        },
        "id": "_m4NJD7kbuwU",
        "outputId": "4f244e88-60e4-41a2-a9ec-badf898bf232"
      },
      "execution_count": null,
      "outputs": [
        {
          "output_type": "stream",
          "name": "stdout",
          "text": [
            "Mean of median_house_value:  206855.81690891474\n",
            "Median of median_house_value:  179700.0\n",
            "Mode of median_house_value:  ModeResult(mode=500001.0, count=965)\n",
            "Variance of median_house_value:  13315503000.818077\n",
            "Standard Deviation of median_house_value:  115392.82040412253\n",
            "Range of median_house_value:  485002.0\n",
            "IQR of median_house_value:  145125.0\n",
            "Skewness of median_house_value:  0.9776922140978416\n",
            "Kurtosis of median_house_value:  0.3275001388119616\n",
            "\n"
          ]
        }
      ]
    }
  ]
}